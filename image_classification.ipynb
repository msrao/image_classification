{
 "cells": [
  {
   "cell_type": "markdown",
   "metadata": {
    "collapsed": true
   },
   "source": [
    "# Image Classification\n",
    "In this project, you'll classify images from the [CIFAR-10 dataset](https://www.cs.toronto.edu/~kriz/cifar.html).  The dataset consists of airplanes, dogs, cats, and other objects. You'll preprocess the images, then train a convolutional neural network on all the samples. The images need to be normalized and the labels need to be one-hot encoded.  You'll get to apply what you learned and build a convolutional, max pooling, dropout, and fully connected layers.  At the end, you'll get to see your neural network's predictions on the sample images.\n",
    "## Get the Data\n",
    "Run the following cell to download the [CIFAR-10 dataset for python](https://www.cs.toronto.edu/~kriz/cifar-10-python.tar.gz)."
   ]
  },
  {
   "cell_type": "code",
   "execution_count": 1,
   "metadata": {
    "collapsed": false
   },
   "outputs": [
    {
     "name": "stdout",
     "output_type": "stream",
     "text": [
      "All files found!\n"
     ]
    }
   ],
   "source": [
    "\"\"\"\n",
    "DON'T MODIFY ANYTHING IN THIS CELL THAT IS BELOW THIS LINE\n",
    "\"\"\"\n",
    "from urllib.request import urlretrieve\n",
    "from os.path import isfile, isdir\n",
    "from tqdm import tqdm\n",
    "import problem_unittests as tests\n",
    "import tarfile\n",
    "\n",
    "cifar10_dataset_folder_path = 'cifar-10-batches-py'\n",
    "\n",
    "class DLProgress(tqdm):\n",
    "    last_block = 0\n",
    "\n",
    "    def hook(self, block_num=1, block_size=1, total_size=None):\n",
    "        self.total = total_size\n",
    "        self.update((block_num - self.last_block) * block_size)\n",
    "        self.last_block = block_num\n",
    "\n",
    "if not isfile('cifar-10-python.tar.gz'):\n",
    "    with DLProgress(unit='B', unit_scale=True, miniters=1, desc='CIFAR-10 Dataset') as pbar:\n",
    "        urlretrieve(\n",
    "            'https://www.cs.toronto.edu/~kriz/cifar-10-python.tar.gz',\n",
    "            'cifar-10-python.tar.gz',\n",
    "            pbar.hook)\n",
    "\n",
    "if not isdir(cifar10_dataset_folder_path):\n",
    "    with tarfile.open('cifar-10-python.tar.gz') as tar:\n",
    "        tar.extractall()\n",
    "        tar.close()\n",
    "\n",
    "\n",
    "tests.test_folder_path(cifar10_dataset_folder_path)"
   ]
  },
  {
   "cell_type": "markdown",
   "metadata": {},
   "source": [
    "## Explore the Data\n",
    "The dataset is broken into batches to prevent your machine from running out of memory.  The CIFAR-10 dataset consists of 5 batches, named `data_batch_1`, `data_batch_2`, etc.. Each batch contains the labels and images that are one of the following:\n",
    "* airplane\n",
    "* automobile\n",
    "* bird\n",
    "* cat\n",
    "* deer\n",
    "* dog\n",
    "* frog\n",
    "* horse\n",
    "* ship\n",
    "* truck\n",
    "\n",
    "Understanding a dataset is part of making predictions on the data.  Play around with the code cell below by changing the `batch_id` and `sample_id`. The `batch_id` is the id for a batch (1-5). The `sample_id` is the id for a image and label pair in the batch.\n",
    "\n",
    "Ask yourself \"What are all possible labels?\", \"What is the range of values for the image data?\", \"Are the labels in order or random?\".  Answers to questions like these will help you preprocess the data and end up with better predictions."
   ]
  },
  {
   "cell_type": "code",
   "execution_count": 2,
   "metadata": {
    "collapsed": false
   },
   "outputs": [
    {
     "name": "stdout",
     "output_type": "stream",
     "text": [
      "\n",
      "Stats of batch 5:\n",
      "Samples: 10000\n",
      "Label Counts: {0: 1014, 1: 1014, 2: 952, 3: 1016, 4: 997, 5: 1025, 6: 980, 7: 977, 8: 1003, 9: 1022}\n",
      "First 20 Labels: [1, 8, 5, 1, 5, 7, 4, 3, 8, 2, 7, 2, 0, 1, 5, 9, 6, 2, 0, 8]\n",
      "\n",
      "Example of Image 999:\n",
      "Image - Min Value: 18 Max Value: 224\n",
      "Image - Shape: (32, 32, 3)\n",
      "Label - Label Id: 7 Name: horse\n"
     ]
    },
    {
     "data": {
      "image/png": "[encoded data removed]",
      "text/plain": [
       "<matplotlib.figure.Figure at 0x2d9e05f7860>"
      ]
     },
     "metadata": {
      "image/png": {
       "height": 250,
       "width": 253
      }
     },
     "output_type": "display_data"
    }
   ],
   "source": [
    "%matplotlib inline\n",
    "%config InlineBackend.figure_format = 'retina'\n",
    "\n",
    "import helper\n",
    "import numpy as np\n",
    "\n",
    "# Explore the dataset\n",
    "batch_id = 5\n",
    "sample_id = 999\n",
    "helper.display_stats(cifar10_dataset_folder_path, batch_id, sample_id)"
   ]
  },
  {
   "cell_type": "markdown",
   "metadata": {},
   "source": [
    "## Implement Preprocess Functions\n",
    "### Normalize\n",
    "In the cell below, implement the `normalize` function to take in image data, `x`, and return it as a normalized Numpy array. The values should be in the range of 0 to 1, inclusive.  The return object should be the same shape as `x`."
   ]
  },
  {
   "cell_type": "code",
   "execution_count": 3,
   "metadata": {
    "collapsed": false
   },
   "outputs": [
    {
     "name": "stdout",
     "output_type": "stream",
     "text": [
      "Tests Passed\n"
     ]
    }
   ],
   "source": [
    "from sklearn import preprocessing\n",
    "def normalize(x):\n",
    "    \"\"\"\n",
    "    Normalize a list of sample image data in the range of 0 to 1\n",
    "    : x: List of image data.  The image shape is (32, 32, 3)\n",
    "    : return: Numpy array of normalize data\n",
    "    \"\"\"\n",
    "    # TODO: Implement Function\n",
    "    normalized_data = np.array(x/255)\n",
    "    return normalized_data\n",
    "\n",
    "\n",
    "\"\"\"\n",
    "DON'T MODIFY ANYTHING IN THIS CELL THAT IS BELOW THIS LINE\n",
    "\"\"\"\n",
    "tests.test_normalize(normalize)"
   ]
  },
  {
   "cell_type": "markdown",
   "metadata": {},
   "source": [
    "### One-hot encode\n",
    "Just like the previous code cell, you'll be implementing a function for preprocessing.  This time, you'll implement the `one_hot_encode` function. The input, `x`, are a list of labels.  Implement the function to return the list of labels as One-Hot encoded Numpy array.  The possible values for labels are 0 to 9. The one-hot encoding function should return the same encoding for each value between each call to `one_hot_encode`.  Make sure to save the map of encodings outside the function.\n",
    "\n",
    "**Hint:**\n",
    "\n",
    "Look into LabelBinarizer in the preprocessing module of sklearn."
   ]
  },
  {
   "cell_type": "code",
   "execution_count": 4,
   "metadata": {
    "collapsed": false
   },
   "outputs": [
    {
     "name": "stdout",
     "output_type": "stream",
     "text": [
      "Tests Passed\n"
     ]
    }
   ],
   "source": [
    "from sklearn.preprocessing import LabelBinarizer \n",
    "def one_hot_encode(x):\n",
    "    \"\"\"\n",
    "    One hot encode a list of sample labels. Return a one-hot encoded vector for each label.\n",
    "    : x: List of sample Labels\n",
    "    : return: Numpy array of one-hot encoded labels\n",
    "    \"\"\"\n",
    "    # TODO: Implement Function\n",
    "    return np.eye(10)[x]\n",
    "\n",
    "\n",
    "\"\"\"\n",
    "DON'T MODIFY ANYTHING IN THIS CELL THAT IS BELOW THIS LINE\n",
    "\"\"\"\n",
    "tests.test_one_hot_encode(one_hot_encode)"
   ]
  },
  {
   "cell_type": "markdown",
   "metadata": {},
   "source": [
    "### Randomize Data\n",
    "As you saw from exploring the data above, the order of the samples are randomized.  It doesn't hurt to randomize it again, but you don't need to for this dataset."
   ]
  },
  {
   "cell_type": "markdown",
   "metadata": {},
   "source": [
    "## Preprocess all the data and save it\n",
    "Running the code cell below will preprocess all the CIFAR-10 data and save it to file. The code below also uses 10% of the training data for validation."
   ]
  },
  {
   "cell_type": "code",
   "execution_count": 5,
   "metadata": {
    "collapsed": false
   },
   "outputs": [],
   "source": [
    "\"\"\"\n",
    "DON'T MODIFY ANYTHING IN THIS CELL\n",
    "\"\"\"\n",
    "# Preprocess Training, Validation, and Testing Data\n",
    "helper.preprocess_and_save_data(cifar10_dataset_folder_path, normalize, one_hot_encode)"
   ]
  },
  {
   "cell_type": "markdown",
   "metadata": {},
   "source": [
    "# Check Point\n",
    "This is your first checkpoint.  If you ever decide to come back to this notebook or have to restart the notebook, you can start from here.  The preprocessed data has been saved to disk."
   ]
  },
  {
   "cell_type": "code",
   "execution_count": 6,
   "metadata": {
    "collapsed": true
   },
   "outputs": [],
   "source": [
    "\"\"\"\n",
    "DON'T MODIFY ANYTHING IN THIS CELL\n",
    "\"\"\"\n",
    "import pickle\n",
    "import problem_unittests as tests\n",
    "import helper\n",
    "\n",
    "# Load the Preprocessed Validation data\n",
    "valid_features, valid_labels = pickle.load(open('preprocess_validation.p', mode='rb'))"
   ]
  },
  {
   "cell_type": "markdown",
   "metadata": {},
   "source": [
    "## Build the network\n",
    "For the neural network, you'll build each layer into a function.  Most of the code you've seen has been outside of functions. To test your code more thoroughly, we require that you put each layer in a function.  This allows us to give you better feedback and test for simple mistakes using our unittests before you submit your project.\n",
    "\n",
    ">**Note:** If you're finding it hard to dedicate enough time for this course each week, we've provided a small shortcut to this part of the project. In the next couple of problems, you'll have the option to use classes from the [TensorFlow Layers](https://www.tensorflow.org/api_docs/python/tf/layers) or [TensorFlow Layers (contrib)](https://www.tensorflow.org/api_guides/python/contrib.layers) packages to build each layer, except the layers you build in the \"Convolutional and Max Pooling Layer\" section.  TF Layers is similar to Keras's and TFLearn's abstraction to layers, so it's easy to pickup.\n",
    "\n",
    ">However, if you would like to get the most out of this course, try to solve all the problems _without_ using anything from the TF Layers packages. You **can** still use classes from other packages that happen to have the same name as ones you find in TF Layers! For example, instead of using the TF Layers version of the `conv2d` class, [tf.layers.conv2d](https://www.tensorflow.org/api_docs/python/tf/layers/conv2d), you would want to use the TF Neural Network version of `conv2d`, [tf.nn.conv2d](https://www.tensorflow.org/api_docs/python/tf/nn/conv2d). \n",
    "\n",
    "Let's begin!\n",
    "\n",
    "### Input\n",
    "The neural network needs to read the image data, one-hot encoded labels, and dropout keep probability. Implement the following functions\n",
    "* Implement `neural_net_image_input`\n",
    " * Return a [TF Placeholder](https://www.tensorflow.org/api_docs/python/tf/placeholder)\n",
    " * Set the shape using `image_shape` with batch size set to `None`.\n",
    " * Name the TensorFlow placeholder \"x\" using the TensorFlow `name` parameter in the [TF Placeholder](https://www.tensorflow.org/api_docs/python/tf/placeholder).\n",
    "* Implement `neural_net_label_input`\n",
    " * Return a [TF Placeholder](https://www.tensorflow.org/api_docs/python/tf/placeholder)\n",
    " * Set the shape using `n_classes` with batch size set to `None`.\n",
    " * Name the TensorFlow placeholder \"y\" using the TensorFlow `name` parameter in the [TF Placeholder](https://www.tensorflow.org/api_docs/python/tf/placeholder).\n",
    "* Implement `neural_net_keep_prob_input`\n",
    " * Return a [TF Placeholder](https://www.tensorflow.org/api_docs/python/tf/placeholder) for dropout keep probability.\n",
    " * Name the TensorFlow placeholder \"keep_prob\" using the TensorFlow `name` parameter in the [TF Placeholder](https://www.tensorflow.org/api_docs/python/tf/placeholder).\n",
    "\n",
    "These names will be used at the end of the project to load your saved model.\n",
    "\n",
    "Note: `None` for shapes in TensorFlow allow for a dynamic size."
   ]
  },
  {
   "cell_type": "code",
   "execution_count": 7,
   "metadata": {
    "collapsed": false
   },
   "outputs": [
    {
     "name": "stdout",
     "output_type": "stream",
     "text": [
      "Image Input Tests Passed.\n",
      "Label Input Tests Passed.\n",
      "Keep Prob Tests Passed.\n"
     ]
    }
   ],
   "source": [
    "import tensorflow as tf\n",
    "\n",
    "def neural_net_image_input(image_shape):\n",
    "    \"\"\"\n",
    "    Return a Tensor for a batch of image input\n",
    "    : image_shape: Shape of the images\n",
    "    : return: Tensor for image input.\n",
    "    \"\"\"\n",
    "    # TODO: Implement Function\n",
    "    image_input = tf.placeholder(tf.float32,shape=(None, image_shape[0],image_shape[1],image_shape[2]),name='x')\n",
    "    return image_input\n",
    "\n",
    "\n",
    "def neural_net_label_input(n_classes):\n",
    "    \"\"\"\n",
    "    Return a Tensor for a batch of label input\n",
    "    : n_classes: Number of classes\n",
    "    : return: Tensor for label input.\n",
    "    \"\"\"\n",
    "    # TODO: Implement Function\n",
    "    label_input = tf.placeholder(tf.float32, shape=[None,n_classes], name='y')\n",
    "    return label_input\n",
    "\n",
    "\n",
    "def neural_net_keep_prob_input():\n",
    "    \"\"\"\n",
    "    Return a Tensor for keep probability\n",
    "    : return: Tensor for keep probability.\n",
    "    \"\"\"\n",
    "    # TODO: Implement Function\n",
    "    keep_prob_input = tf.placeholder(tf.float32, name='keep_prob')\n",
    "    return keep_prob_input\n",
    "\n",
    "\n",
    "\"\"\"\n",
    "DON'T MODIFY ANYTHING IN THIS CELL THAT IS BELOW THIS LINE\n",
    "\"\"\"\n",
    "tf.reset_default_graph()\n",
    "tests.test_nn_image_inputs(neural_net_image_input)\n",
    "tests.test_nn_label_inputs(neural_net_label_input)\n",
    "tests.test_nn_keep_prob_inputs(neural_net_keep_prob_input)"
   ]
  },
  {
   "cell_type": "markdown",
   "metadata": {},
   "source": [
    "### Convolution and Max Pooling Layer\n",
    "Convolution layers have a lot of success with images. For this code cell, you should implement the function `conv2d_maxpool` to apply convolution then max pooling:\n",
    "* Create the weight and bias using `conv_ksize`, `conv_num_outputs` and the shape of `x_tensor`.\n",
    "* Apply a convolution to `x_tensor` using weight and `conv_strides`.\n",
    " * We recommend you use same padding, but you're welcome to use any padding.\n",
    "* Add bias\n",
    "* Add a nonlinear activation to the convolution.\n",
    "* Apply Max Pooling using `pool_ksize` and `pool_strides`.\n",
    " * We recommend you use same padding, but you're welcome to use any padding.\n",
    "\n",
    "**Note:** You **can't** use [TensorFlow Layers](https://www.tensorflow.org/api_docs/python/tf/layers) or [TensorFlow Layers (contrib)](https://www.tensorflow.org/api_guides/python/contrib.layers) for **this** layer, but you can still use TensorFlow's [Neural Network](https://www.tensorflow.org/api_docs/python/tf/nn) package. You may still use the shortcut option for all the **other** layers.\n",
    "\n",
    "** Hint: **\n",
    "\n",
    "When unpacking values as an argument in Python, look into the [unpacking](https://docs.python.org/3/tutorial/controlflow.html#unpacking-argument-lists) operator. "
   ]
  },
  {
   "cell_type": "code",
   "execution_count": 8,
   "metadata": {
    "collapsed": false
   },
   "outputs": [
    {
     "name": "stdout",
     "output_type": "stream",
     "text": [
      "Tests Passed\n"
     ]
    }
   ],
   "source": [
    "def conv2d_maxpool(x_tensor, conv_num_outputs, conv_ksize, conv_strides, pool_ksize, pool_strides):\n",
    "    \"\"\"\n",
    "    Apply convolution then max pooling to x_tensor\n",
    "    :param x_tensor: TensorFlow Tensor\n",
    "    :param conv_num_outputs: Number of outputs for the convolutional layer\n",
    "    :param conv_ksize: kernal size 2-D Tuple for the convolutional layer\n",
    "    :param conv_strides: Stride 2-D Tuple for convolution\n",
    "    :param pool_ksize: kernal size 2-D Tuple for pool\n",
    "    :param pool_strides: Stride 2-D Tuple for pool\n",
    "    : return: A tensor that represents convolution and max pooling of x_tensor\n",
    "    \"\"\"\n",
    "    # TODO: Implement Function\n",
    "    # (height, width, input_depth, output_depth)\n",
    "    F_w = tf.Variable(tf.truncated_normal([conv_ksize[0],\n",
    "                                           conv_ksize[1],\n",
    "                                           x_tensor.get_shape().as_list()[3], \n",
    "                                           conv_num_outputs]))\n",
    "    F_b = tf.Variable(tf.zeros(conv_num_outputs)) #output_depth\n",
    "    conv_layer =  tf.nn.conv2d(x_tensor, F_w, [1, conv_strides[0], conv_strides[1], 1],padding='SAME')\n",
    "    conv_layer =  tf.nn.bias_add(conv_layer,F_b)\n",
    "    conv_layer = tf.nn.relu(conv_layer)\n",
    "    conv_maxpool_layer = tf.nn.max_pool(conv_layer, [1, pool_ksize[0], pool_ksize[1], 1],[1, pool_strides[0], pool_strides[1], 1], padding='SAME')\n",
    "    \n",
    "    return conv_maxpool_layer \n",
    "\n",
    "\n",
    "\"\"\"\n",
    "DON'T MODIFY ANYTHING IN THIS CELL THAT IS BELOW THIS LINE\n",
    "\"\"\"\n",
    "tests.test_con_pool(conv2d_maxpool)"
   ]
  },
  {
   "cell_type": "markdown",
   "metadata": {},
   "source": [
    "### Flatten Layer\n",
    "Implement the `flatten` function to change the dimension of `x_tensor` from a 4-D tensor to a 2-D tensor.  The output should be the shape (*Batch Size*, *Flattened Image Size*). Shortcut option: you can use classes from the [TensorFlow Layers](https://www.tensorflow.org/api_docs/python/tf/layers) or [TensorFlow Layers (contrib)](https://www.tensorflow.org/api_guides/python/contrib.layers) packages for this layer. For more of a challenge, only use other TensorFlow packages."
   ]
  },
  {
   "cell_type": "code",
   "execution_count": 9,
   "metadata": {
    "collapsed": false
   },
   "outputs": [
    {
     "name": "stdout",
     "output_type": "stream",
     "text": [
      "Tests Passed\n"
     ]
    }
   ],
   "source": [
    "def flatten(x_tensor):\n",
    "    \"\"\"\n",
    "    Flatten x_tensor to (Batch Size, Flattened Image Size)\n",
    "    : x_tensor: A tensor of size (Batch Size, ...), where ... are the image dimensions.\n",
    "    : return: A tensor of size (Batch Size, Flattened Image Size).\n",
    "    \"\"\"\n",
    "    # TODO: Implement Function\n",
    "    flattened_tensor = tf.contrib.layers.flatten(x_tensor)\n",
    "    return flattened_tensor\n",
    "\n",
    "\n",
    "\"\"\"\n",
    "DON'T MODIFY ANYTHING IN THIS CELL THAT IS BELOW THIS LINE\n",
    "\"\"\"\n",
    "tests.test_flatten(flatten)"
   ]
  },
  {
   "cell_type": "markdown",
   "metadata": {},
   "source": [
    "### Fully-Connected Layer\n",
    "Implement the `fully_conn` function to apply a fully connected layer to `x_tensor` with the shape (*Batch Size*, *num_outputs*). Shortcut option: you can use classes from the [TensorFlow Layers](https://www.tensorflow.org/api_docs/python/tf/layers) or [TensorFlow Layers (contrib)](https://www.tensorflow.org/api_guides/python/contrib.layers) packages for this layer. For more of a challenge, only use other TensorFlow packages."
   ]
  },
  {
   "cell_type": "code",
   "execution_count": 10,
   "metadata": {
    "collapsed": false
   },
   "outputs": [
    {
     "name": "stdout",
     "output_type": "stream",
     "text": [
      "Tests Passed\n"
     ]
    }
   ],
   "source": [
    "def fully_conn(x_tensor, num_outputs):\n",
    "    \"\"\"\n",
    "    Apply a fully connected layer to x_tensor using weight and bias\n",
    "    : x_tensor: A 2-D tensor where the first dimension is batch size.\n",
    "    : num_outputs: The number of output that the new tensor should be.\n",
    "    : return: A 2-D tensor where the second dimension is num_outputs.\n",
    "    \"\"\"\n",
    "    # TODO: Implement Function\n",
    "    width = x_tensor.get_shape().as_list()[1]\n",
    "    weight = tf.Variable(tf.truncated_normal(([width, num_outputs]), stddev=0.1))\n",
    "    bias = tf.Variable(tf.zeros(num_outputs))\n",
    "    output_layer = tf.add(tf.matmul(x_tensor, weight), bias)\n",
    "    output_layer = tf.nn.relu(output_layer)\n",
    "    return output_layer\n",
    "\n",
    "\n",
    "\"\"\"\n",
    "DON'T MODIFY ANYTHING IN THIS CELL THAT IS BELOW THIS LINE\n",
    "\"\"\"\n",
    "tests.test_fully_conn(fully_conn)"
   ]
  },
  {
   "cell_type": "markdown",
   "metadata": {},
   "source": [
    "### Output Layer\n",
    "Implement the `output` function to apply a fully connected layer to `x_tensor` with the shape (*Batch Size*, *num_outputs*). Shortcut option: you can use classes from the [TensorFlow Layers](https://www.tensorflow.org/api_docs/python/tf/layers) or [TensorFlow Layers (contrib)](https://www.tensorflow.org/api_guides/python/contrib.layers) packages for this layer. For more of a challenge, only use other TensorFlow packages.\n",
    "\n",
    "**Note:** Activation, softmax, or cross entropy should **not** be applied to this."
   ]
  },
  {
   "cell_type": "code",
   "execution_count": 11,
   "metadata": {
    "collapsed": false
   },
   "outputs": [
    {
     "name": "stdout",
     "output_type": "stream",
     "text": [
      "Tests Passed\n"
     ]
    }
   ],
   "source": [
    "def output(x_tensor, num_outputs):\n",
    "    \"\"\"\n",
    "    Apply a output layer to x_tensor using weight and bias\n",
    "    : x_tensor: A 2-D tensor where the first dimension is batch size.\n",
    "    : num_outputs: The number of output that the new tensor should be.\n",
    "    : return: A 2-D tensor where the second dimension is num_outputs.\n",
    "    \"\"\"\n",
    "    # TODO: Implement Function\n",
    "    width = x_tensor.get_shape().as_list()[1]    \n",
    "    weight = tf.Variable(tf.truncated_normal([width, num_outputs], stddev=0.1))\n",
    "    bias = tf.Variable(tf.truncated_normal([num_outputs], stddev=0.1))\n",
    "    output = tf.nn.bias_add(tf.matmul(x_tensor,weight), bias)\n",
    "    return output\n",
    "\n",
    "\n",
    "\"\"\"\n",
    "DON'T MODIFY ANYTHING IN THIS CELL THAT IS BELOW THIS LINE\n",
    "\"\"\"\n",
    "tests.test_output(output)"
   ]
  },
  {
   "cell_type": "markdown",
   "metadata": {},
   "source": [
    "### Create Convolutional Model\n",
    "Implement the function `conv_net` to create a convolutional neural network model. The function takes in a batch of images, `x`, and outputs logits.  Use the layers you created above to create this model:\n",
    "\n",
    "* Apply 1, 2, or 3 Convolution and Max Pool layers\n",
    "* Apply a Flatten Layer\n",
    "* Apply 1, 2, or 3 Fully Connected Layers\n",
    "* Apply an Output Layer\n",
    "* Return the output\n",
    "* Apply [TensorFlow's Dropout](https://www.tensorflow.org/api_docs/python/tf/nn/dropout) to one or more layers in the model using `keep_prob`. "
   ]
  },
  {
   "cell_type": "code",
   "execution_count": 29,
   "metadata": {
    "collapsed": false
   },
   "outputs": [
    {
     "name": "stdout",
     "output_type": "stream",
     "text": [
      "Neural Network Built!\n"
     ]
    }
   ],
   "source": [
    "def conv_net(x, keep_prob):\n",
    "    \"\"\"\n",
    "    Create a convolutional neural network model\n",
    "    : x: Placeholder tensor that holds image data.\n",
    "    : keep_prob: Placeholder tensor that hold dropout keep probability.\n",
    "    : return: Tensor that represents logits\n",
    "    \"\"\"\n",
    "    # TODO: Apply 1, 2, or 3 Convolution and Max Pool layers\n",
    "    #    Play around with different number of outputs, kernel size and stride\n",
    "    # Function Definition from Above:\n",
    "    #    conv2d_maxpool(x_tensor, conv_num_outputs, conv_ksize, conv_strides, pool_ksize, pool_strides)\n",
    "    \n",
    "    # defining the input values\n",
    "    \n",
    "    conv_num_outputs_1 = 32\n",
    "    conv_num_outputs_2 = 64\n",
    "    conv_num_outputs_3 = 128\n",
    "    \n",
    "    conv_ksize = [4, 4]\n",
    "    conv_ksize_2 = [6, 6]\n",
    "    conv_strides = [2, 2]\n",
    "    pool_ksize = [4, 4]\n",
    "    pool_strides = [2, 2]\n",
    "    \n",
    "    # commenting out layer 3 as it is not allowing Validation Accuracy to increase. \n",
    "    \n",
    "    conv_layer_1 = conv2d_maxpool(x, conv_num_outputs_1, conv_ksize, conv_strides, pool_ksize, pool_strides)\n",
    "    conv_layer_2 = conv2d_maxpool(conv_layer_1, conv_num_outputs_2, conv_ksize_2, conv_strides, pool_ksize, pool_strides)\n",
    "    #conv_layer_3 = conv2d_maxpool(conv_layer_2, conv_num_outputs_3, conv_ksize_2, conv_strides, pool_ksize, pool_strides)\n",
    "    conv_layer_2 = tf.nn.dropout(conv_layer_2, keep_prob)\n",
    "\n",
    "    # TODO: Apply a Flatten Layer\n",
    "    # Function Definition from Above:\n",
    "    #   flatten(x_tensor)\n",
    "    \n",
    "    flattened_layer = flatten(conv_layer_2)\n",
    "\n",
    "    # TODO: Apply 1, 2, or 3 Fully Connected Layers\n",
    "    #    Play around with different number of outputs\n",
    "    # Function Definition from Above:\n",
    "    #   fully_conn(x_tensor, num_outputs)\n",
    "    \n",
    "    connected_layer_1 = fully_conn(flattened_layer, 256)\n",
    "    dropout_layer = tf.nn.dropout(connected_layer_1, keep_prob)\n",
    "    \n",
    "    connected_layer = fully_conn(dropout_layer, 128)\n",
    "    \n",
    "    # TODO: Apply an Output Layer\n",
    "    #    Set this to the number of classes\n",
    "    # Function Definition from Above:\n",
    "    #   output(x_tensor, num_outputs)\n",
    "    \n",
    "    output_layer = output(connected_layer, 10)\n",
    "    \n",
    "    # TODO: return output\n",
    "    return output_layer\n",
    "\n",
    "\n",
    "\"\"\"\n",
    "DON'T MODIFY ANYTHING IN THIS CELL THAT IS BELOW THIS LINE\n",
    "\"\"\"\n",
    "\n",
    "##############################\n",
    "## Build the Neural Network ##\n",
    "##############################\n",
    "\n",
    "# Remove previous weights, bias, inputs, etc..\n",
    "tf.reset_default_graph()\n",
    "\n",
    "# Inputs\n",
    "x = neural_net_image_input((32, 32, 3))\n",
    "y = neural_net_label_input(10)\n",
    "keep_prob = neural_net_keep_prob_input()\n",
    "\n",
    "# Model\n",
    "logits = conv_net(x, keep_prob)\n",
    "\n",
    "# Name logits Tensor, so that is can be loaded from disk after training\n",
    "logits = tf.identity(logits, name='logits')\n",
    "\n",
    "# Loss and Optimizer\n",
    "cost = tf.reduce_mean(tf.nn.softmax_cross_entropy_with_logits(logits=logits, labels=y))\n",
    "optimizer = tf.train.AdamOptimizer().minimize(cost)\n",
    "\n",
    "# Accuracy\n",
    "correct_pred = tf.equal(tf.argmax(logits, 1), tf.argmax(y, 1))\n",
    "accuracy = tf.reduce_mean(tf.cast(correct_pred, tf.float32), name='accuracy')\n",
    "\n",
    "tests.test_conv_net(conv_net)"
   ]
  },
  {
   "cell_type": "markdown",
   "metadata": {},
   "source": [
    "## Train the Neural Network\n",
    "### Single Optimization\n",
    "Implement the function `train_neural_network` to do a single optimization.  The optimization should use `optimizer` to optimize in `session` with a `feed_dict` of the following:\n",
    "* `x` for image input\n",
    "* `y` for labels\n",
    "* `keep_prob` for keep probability for dropout\n",
    "\n",
    "This function will be called for each batch, so `tf.global_variables_initializer()` has already been called.\n",
    "\n",
    "Note: Nothing needs to be returned. This function is only optimizing the neural network."
   ]
  },
  {
   "cell_type": "code",
   "execution_count": 30,
   "metadata": {
    "collapsed": false
   },
   "outputs": [
    {
     "name": "stdout",
     "output_type": "stream",
     "text": [
      "Tests Passed\n"
     ]
    }
   ],
   "source": [
    "def train_neural_network(session, optimizer, keep_probability, feature_batch, label_batch):\n",
    "    \"\"\"\n",
    "    Optimize the session on a batch of images and labels\n",
    "    : session: Current TensorFlow session\n",
    "    : optimizer: TensorFlow optimizer function\n",
    "    : keep_probability: keep probability\n",
    "    : feature_batch: Batch of Numpy image data\n",
    "    : label_batch: Batch of Numpy label data\n",
    "    \"\"\"\n",
    "    # TODO: Implement Function\n",
    "    session.run(optimizer, feed_dict={x: feature_batch, y:label_batch, keep_prob: keep_probability})\n",
    "    \n",
    "\n",
    "\n",
    "\"\"\"\n",
    "DON'T MODIFY ANYTHING IN THIS CELL THAT IS BELOW THIS LINE\n",
    "\"\"\"\n",
    "tests.test_train_nn(train_neural_network)"
   ]
  },
  {
   "cell_type": "markdown",
   "metadata": {},
   "source": [
    "### Show Stats\n",
    "Implement the function `print_stats` to print loss and validation accuracy.  Use the global variables `valid_features` and `valid_labels` to calculate validation accuracy.  Use a keep probability of `1.0` to calculate the loss and validation accuracy."
   ]
  },
  {
   "cell_type": "code",
   "execution_count": 31,
   "metadata": {
    "collapsed": false
   },
   "outputs": [],
   "source": [
    "def print_stats(session, feature_batch, label_batch, cost, accuracy):\n",
    "    \"\"\"\n",
    "    Print information about loss and validation accuracy\n",
    "    : session: Current TensorFlow session\n",
    "    : feature_batch: Batch of Numpy image data\n",
    "    : label_batch: Batch of Numpy label data\n",
    "    : cost: TensorFlow cost function\n",
    "    : accuracy: TensorFlow accuracy function\n",
    "    \"\"\"\n",
    "    # TODO: Implement Function\n",
    "    loss = session.run(cost, feed_dict={x:feature_batch, y:label_batch, keep_prob: 1.0})\n",
    "    accuracy = session.run(accuracy, feed_dict={x: valid_features, y:valid_labels, keep_prob:1.0})\n",
    "    \n",
    "    print(' Loss : {} '.format(loss))\n",
    "    print(' Validation Accuracy : {} '.format(accuracy))"
   ]
  },
  {
   "cell_type": "markdown",
   "metadata": {},
   "source": [
    "### Hyperparameters\n",
    "Tune the following parameters:\n",
    "* Set `epochs` to the number of iterations until the network stops learning or start overfitting\n",
    "* Set `batch_size` to the highest number that your machine has memory for.  Most people set them to common sizes of memory:\n",
    " * 64\n",
    " * 128\n",
    " * 256\n",
    " * ...\n",
    "* Set `keep_probability` to the probability of keeping a node using dropout"
   ]
  },
  {
   "cell_type": "code",
   "execution_count": 32,
   "metadata": {
    "collapsed": true
   },
   "outputs": [],
   "source": [
    "# TODO: Tune Parameters\n",
    "epochs = 15\n",
    "batch_size = 128\n",
    "keep_probability = 0.97"
   ]
  },
  {
   "cell_type": "markdown",
   "metadata": {},
   "source": [
    "### Train on a Single CIFAR-10 Batch\n",
    "Instead of training the neural network on all the CIFAR-10 batches of data, let's use a single batch. This should save time while you iterate on the model to get a better accuracy.  Once the final validation accuracy is 50% or greater, run the model on all the data in the next section."
   ]
  },
  {
   "cell_type": "code",
   "execution_count": 33,
   "metadata": {
    "collapsed": false
   },
   "outputs": [
    {
     "name": "stdout",
     "output_type": "stream",
     "text": [
      "Checking the Training on a Single Batch...\n",
      "Epoch  1, CIFAR-10 Batch 1:   Loss : 5.058314323425293 \n",
      " Validation Accuracy : 0.19599999487400055 \n",
      "Epoch  2, CIFAR-10 Batch 1:   Loss : 3.293360948562622 \n",
      " Validation Accuracy : 0.23980000615119934 \n",
      "Epoch  3, CIFAR-10 Batch 1:   Loss : 2.3966712951660156 \n",
      " Validation Accuracy : 0.24500000476837158 \n",
      "Epoch  4, CIFAR-10 Batch 1:   Loss : 1.9739387035369873 \n",
      " Validation Accuracy : 0.25780001282691956 \n",
      "Epoch  5, CIFAR-10 Batch 1:   Loss : 2.01983642578125 \n",
      " Validation Accuracy : 0.2581999897956848 \n",
      "Epoch  6, CIFAR-10 Batch 1:   Loss : 1.931102991104126 \n",
      " Validation Accuracy : 0.2712000012397766 \n",
      "Epoch  7, CIFAR-10 Batch 1:   Loss : 1.8204514980316162 \n",
      " Validation Accuracy : 0.2937999963760376 \n",
      "Epoch  8, CIFAR-10 Batch 1:   Loss : 1.827138900756836 \n",
      " Validation Accuracy : 0.31380000710487366 \n",
      "Epoch  9, CIFAR-10 Batch 1:   Loss : 1.753139853477478 \n",
      " Validation Accuracy : 0.32760000228881836 \n",
      "Epoch 10, CIFAR-10 Batch 1:   Loss : 1.7570663690567017 \n",
      " Validation Accuracy : 0.34119999408721924 \n",
      "Epoch 11, CIFAR-10 Batch 1:   Loss : 1.7136008739471436 \n",
      " Validation Accuracy : 0.35519999265670776 \n",
      "Epoch 12, CIFAR-10 Batch 1:   Loss : 1.6916286945343018 \n",
      " Validation Accuracy : 0.36980000138282776 \n",
      "Epoch 13, CIFAR-10 Batch 1:   Loss : 1.6841347217559814 \n",
      " Validation Accuracy : 0.3716000020503998 \n",
      "Epoch 14, CIFAR-10 Batch 1:   Loss : 1.6618751287460327 \n",
      " Validation Accuracy : 0.37959998846054077 \n",
      "Epoch 15, CIFAR-10 Batch 1:   Loss : 1.6000664234161377 \n",
      " Validation Accuracy : 0.38519999384880066 \n"
     ]
    }
   ],
   "source": [
    "\"\"\"\n",
    "DON'T MODIFY ANYTHING IN THIS CELL\n",
    "\"\"\"\n",
    "print('Checking the Training on a Single Batch...')\n",
    "with tf.Session() as sess:\n",
    "    # Initializing the variables\n",
    "    sess.run(tf.global_variables_initializer())\n",
    "    \n",
    "    # Training cycle\n",
    "    for epoch in range(epochs):\n",
    "        batch_i = 1\n",
    "        for batch_features, batch_labels in helper.load_preprocess_training_batch(batch_i, batch_size):\n",
    "            train_neural_network(sess, optimizer, keep_probability, batch_features, batch_labels)\n",
    "        print('Epoch {:>2}, CIFAR-10 Batch {}:  '.format(epoch + 1, batch_i), end='')\n",
    "        print_stats(sess, batch_features, batch_labels, cost, accuracy)"
   ]
  },
  {
   "cell_type": "markdown",
   "metadata": {},
   "source": [
    "### Fully Train the Model\n",
    "Now that you got a good accuracy with a single CIFAR-10 batch, try it with all five batches."
   ]
  },
  {
   "cell_type": "code",
   "execution_count": 34,
   "metadata": {
    "collapsed": false
   },
   "outputs": [
    {
     "name": "stdout",
     "output_type": "stream",
     "text": [
      "Training...\n",
      "Epoch  1, CIFAR-10 Batch 1:   Loss : 6.238042831420898 \n",
      " Validation Accuracy : 0.19359999895095825 \n",
      "Epoch  1, CIFAR-10 Batch 2:   Loss : 3.379647731781006 \n",
      " Validation Accuracy : 0.21439999341964722 \n",
      "Epoch  1, CIFAR-10 Batch 3:   Loss : 2.354442834854126 \n",
      " Validation Accuracy : 0.2345999926328659 \n",
      "Epoch  1, CIFAR-10 Batch 4:   Loss : 1.979153037071228 \n",
      " Validation Accuracy : 0.25519999861717224 \n",
      "Epoch  1, CIFAR-10 Batch 5:   Loss : 1.921826720237732 \n",
      " Validation Accuracy : 0.2587999999523163 \n",
      "Epoch  2, CIFAR-10 Batch 1:   Loss : 1.909563422203064 \n",
      " Validation Accuracy : 0.2888000011444092 \n",
      "Epoch  2, CIFAR-10 Batch 2:   Loss : 2.093660354614258 \n",
      " Validation Accuracy : 0.2913999855518341 \n",
      "Epoch  2, CIFAR-10 Batch 3:   Loss : 1.6806824207305908 \n",
      " Validation Accuracy : 0.3068000078201294 \n",
      "Epoch  2, CIFAR-10 Batch 4:   Loss : 1.7920984029769897 \n",
      " Validation Accuracy : 0.3314000070095062 \n",
      "Epoch  2, CIFAR-10 Batch 5:   Loss : 1.6752773523330688 \n",
      " Validation Accuracy : 0.33899998664855957 \n",
      "Epoch  3, CIFAR-10 Batch 1:   Loss : 1.7587817907333374 \n",
      " Validation Accuracy : 0.337799996137619 \n",
      "Epoch  3, CIFAR-10 Batch 2:   Loss : 2.025420665740967 \n",
      " Validation Accuracy : 0.35899999737739563 \n",
      "Epoch  3, CIFAR-10 Batch 3:   Loss : 1.4940048456192017 \n",
      " Validation Accuracy : 0.36239999532699585 \n",
      "Epoch  3, CIFAR-10 Batch 4:   Loss : 1.6803134679794312 \n",
      " Validation Accuracy : 0.3846000134944916 \n",
      "Epoch  3, CIFAR-10 Batch 5:   Loss : 1.6167399883270264 \n",
      " Validation Accuracy : 0.3853999972343445 \n",
      "Epoch  4, CIFAR-10 Batch 1:   Loss : 1.649684190750122 \n",
      " Validation Accuracy : 0.39559999108314514 \n",
      "Epoch  4, CIFAR-10 Batch 2:   Loss : 1.9875404834747314 \n",
      " Validation Accuracy : 0.3962000012397766 \n",
      "Epoch  4, CIFAR-10 Batch 3:   Loss : 1.420673131942749 \n",
      " Validation Accuracy : 0.3937999904155731 \n",
      "Epoch  4, CIFAR-10 Batch 4:   Loss : 1.6202151775360107 \n",
      " Validation Accuracy : 0.40939998626708984 \n",
      "Epoch  4, CIFAR-10 Batch 5:   Loss : 1.5236947536468506 \n",
      " Validation Accuracy : 0.4075999855995178 \n",
      "Epoch  5, CIFAR-10 Batch 1:   Loss : 1.5949329137802124 \n",
      " Validation Accuracy : 0.41679999232292175 \n",
      "Epoch  5, CIFAR-10 Batch 2:   Loss : 1.9424892663955688 \n",
      " Validation Accuracy : 0.4174000024795532 \n",
      "Epoch  5, CIFAR-10 Batch 3:   Loss : 1.403878927230835 \n",
      " Validation Accuracy : 0.4228000044822693 \n",
      "Epoch  5, CIFAR-10 Batch 4:   Loss : 1.600805640220642 \n",
      " Validation Accuracy : 0.42480000853538513 \n",
      "Epoch  5, CIFAR-10 Batch 5:   Loss : 1.510719895362854 \n",
      " Validation Accuracy : 0.4343999922275543 \n",
      "Epoch  6, CIFAR-10 Batch 1:   Loss : 1.5318491458892822 \n",
      " Validation Accuracy : 0.42879998683929443 \n",
      "Epoch  6, CIFAR-10 Batch 2:   Loss : 1.8651090860366821 \n",
      " Validation Accuracy : 0.4323999881744385 \n",
      "Epoch  6, CIFAR-10 Batch 3:   Loss : 1.3199585676193237 \n",
      " Validation Accuracy : 0.43160000443458557 \n",
      "Epoch  6, CIFAR-10 Batch 4:   Loss : 1.590818166732788 \n",
      " Validation Accuracy : 0.4440000057220459 \n",
      "Epoch  6, CIFAR-10 Batch 5:   Loss : 1.4363007545471191 \n",
      " Validation Accuracy : 0.4458000063896179 \n",
      "Epoch  7, CIFAR-10 Batch 1:   Loss : 1.456501841545105 \n",
      " Validation Accuracy : 0.4487999975681305 \n",
      "Epoch  7, CIFAR-10 Batch 2:   Loss : 1.7795422077178955 \n",
      " Validation Accuracy : 0.45579999685287476 \n",
      "Epoch  7, CIFAR-10 Batch 3:   Loss : 1.2517194747924805 \n",
      " Validation Accuracy : 0.4537999927997589 \n",
      "Epoch  7, CIFAR-10 Batch 4:   Loss : 1.5452487468719482 \n",
      " Validation Accuracy : 0.46160000562667847 \n",
      "Epoch  7, CIFAR-10 Batch 5:   Loss : 1.4420276880264282 \n",
      " Validation Accuracy : 0.45559999346733093 \n",
      "Epoch  8, CIFAR-10 Batch 1:   Loss : 1.3958523273468018 \n",
      " Validation Accuracy : 0.4675999879837036 \n",
      "Epoch  8, CIFAR-10 Batch 2:   Loss : 1.7389284372329712 \n",
      " Validation Accuracy : 0.46799999475479126 \n",
      "Epoch  8, CIFAR-10 Batch 3:   Loss : 1.2106342315673828 \n",
      " Validation Accuracy : 0.4596000015735626 \n",
      "Epoch  8, CIFAR-10 Batch 4:   Loss : 1.4943817853927612 \n",
      " Validation Accuracy : 0.4747999906539917 \n",
      "Epoch  8, CIFAR-10 Batch 5:   Loss : 1.372340440750122 \n",
      " Validation Accuracy : 0.47920000553131104 \n",
      "Epoch  9, CIFAR-10 Batch 1:   Loss : 1.3099110126495361 \n",
      " Validation Accuracy : 0.47940000891685486 \n",
      "Epoch  9, CIFAR-10 Batch 2:   Loss : 1.642894983291626 \n",
      " Validation Accuracy : 0.48019999265670776 \n",
      "Epoch  9, CIFAR-10 Batch 3:   Loss : 1.1817432641983032 \n",
      " Validation Accuracy : 0.48559999465942383 \n",
      "Epoch  9, CIFAR-10 Batch 4:   Loss : 1.4263439178466797 \n",
      " Validation Accuracy : 0.4787999987602234 \n",
      "Epoch  9, CIFAR-10 Batch 5:   Loss : 1.3232697248458862 \n",
      " Validation Accuracy : 0.4903999865055084 \n",
      "Epoch 10, CIFAR-10 Batch 1:   Loss : 1.2205661535263062 \n",
      " Validation Accuracy : 0.4903999865055084 \n",
      "Epoch 10, CIFAR-10 Batch 2:   Loss : 1.6083637475967407 \n",
      " Validation Accuracy : 0.4968000054359436 \n",
      "Epoch 10, CIFAR-10 Batch 3:   Loss : 1.136213779449463 \n",
      " Validation Accuracy : 0.4957999885082245 \n",
      "Epoch 10, CIFAR-10 Batch 4:   Loss : 1.4035762548446655 \n",
      " Validation Accuracy : 0.4918000102043152 \n",
      "Epoch 10, CIFAR-10 Batch 5:   Loss : 1.264346957206726 \n",
      " Validation Accuracy : 0.5049999952316284 \n",
      "Epoch 11, CIFAR-10 Batch 1:   Loss : 1.155301570892334 \n",
      " Validation Accuracy : 0.5085999965667725 \n",
      "Epoch 11, CIFAR-10 Batch 2:   Loss : 1.5381889343261719 \n",
      " Validation Accuracy : 0.5088000297546387 \n",
      "Epoch 11, CIFAR-10 Batch 3:   Loss : 1.115578293800354 \n",
      " Validation Accuracy : 0.5049999952316284 \n",
      "Epoch 11, CIFAR-10 Batch 4:   Loss : 1.3679202795028687 \n",
      " Validation Accuracy : 0.5054000020027161 \n",
      "Epoch 11, CIFAR-10 Batch 5:   Loss : 1.2449336051940918 \n",
      " Validation Accuracy : 0.5134000182151794 \n",
      "Epoch 12, CIFAR-10 Batch 1:   Loss : 1.1483118534088135 \n",
      " Validation Accuracy : 0.5109999775886536 \n",
      "Epoch 12, CIFAR-10 Batch 2:   Loss : 1.4531829357147217 \n",
      " Validation Accuracy : 0.5138000249862671 \n",
      "Epoch 12, CIFAR-10 Batch 3:   Loss : 1.05461847782135 \n",
      " Validation Accuracy : 0.5076000094413757 \n",
      "Epoch 12, CIFAR-10 Batch 4:   Loss : 1.3242104053497314 \n",
      " Validation Accuracy : 0.5127999782562256 \n",
      "Epoch 12, CIFAR-10 Batch 5:   Loss : 1.2090253829956055 \n",
      " Validation Accuracy : 0.5234000086784363 \n",
      "Epoch 13, CIFAR-10 Batch 1:   Loss : 1.154889702796936 \n",
      " Validation Accuracy : 0.5266000032424927 \n",
      "Epoch 13, CIFAR-10 Batch 2:   Loss : 1.386090636253357 \n",
      " Validation Accuracy : 0.5293999910354614 \n",
      "Epoch 13, CIFAR-10 Batch 3:   Loss : 1.0399004220962524 \n",
      " Validation Accuracy : 0.5220000147819519 \n",
      "Epoch 13, CIFAR-10 Batch 4:   Loss : 1.2518917322158813 \n",
      " Validation Accuracy : 0.5170000195503235 \n",
      "Epoch 13, CIFAR-10 Batch 5:   Loss : 1.2037681341171265 \n",
      " Validation Accuracy : 0.526199996471405 \n",
      "Epoch 14, CIFAR-10 Batch 1:   Loss : 1.0811830759048462 \n",
      " Validation Accuracy : 0.5320000052452087 \n",
      "Epoch 14, CIFAR-10 Batch 2:   Loss : 1.3504716157913208 \n",
      " Validation Accuracy : 0.5271999835968018 \n",
      "Epoch 14, CIFAR-10 Batch 3:   Loss : 0.9919910430908203 \n",
      " Validation Accuracy : 0.525600016117096 \n",
      "Epoch 14, CIFAR-10 Batch 4:   Loss : 1.1607214212417603 \n",
      " Validation Accuracy : 0.5288000106811523 \n",
      "Epoch 14, CIFAR-10 Batch 5:   Loss : 1.0875766277313232 \n",
      " Validation Accuracy : 0.5370000004768372 \n",
      "Epoch 15, CIFAR-10 Batch 1:   Loss : 1.02870512008667 \n",
      " Validation Accuracy : 0.5288000106811523 \n",
      "Epoch 15, CIFAR-10 Batch 2:   Loss : 1.2869665622711182 \n",
      " Validation Accuracy : 0.5388000011444092 \n",
      "Epoch 15, CIFAR-10 Batch 3:   Loss : 0.935789942741394 \n",
      " Validation Accuracy : 0.5314000248908997 \n",
      "Epoch 15, CIFAR-10 Batch 4:   Loss : 1.104692816734314 \n",
      " Validation Accuracy : 0.5338000059127808 \n",
      "Epoch 15, CIFAR-10 Batch 5:   Loss : 1.023687720298767 \n",
      " Validation Accuracy : 0.5490000247955322 \n"
     ]
    }
   ],
   "source": [
    "\"\"\"\n",
    "DON'T MODIFY ANYTHING IN THIS CELL\n",
    "\"\"\"\n",
    "save_model_path = './image_classification'\n",
    "\n",
    "print('Training...')\n",
    "with tf.Session() as sess:\n",
    "    # Initializing the variables\n",
    "    sess.run(tf.global_variables_initializer())\n",
    "    \n",
    "    # Training cycle\n",
    "    for epoch in range(epochs):\n",
    "        # Loop over all batches\n",
    "        n_batches = 5\n",
    "        for batch_i in range(1, n_batches + 1):\n",
    "            for batch_features, batch_labels in helper.load_preprocess_training_batch(batch_i, batch_size):\n",
    "                train_neural_network(sess, optimizer, keep_probability, batch_features, batch_labels)\n",
    "            print('Epoch {:>2}, CIFAR-10 Batch {}:  '.format(epoch + 1, batch_i), end='')\n",
    "            print_stats(sess, batch_features, batch_labels, cost, accuracy)\n",
    "            \n",
    "    # Save Model\n",
    "    saver = tf.train.Saver()\n",
    "    save_path = saver.save(sess, save_model_path)"
   ]
  },
  {
   "cell_type": "markdown",
   "metadata": {},
   "source": [
    "# Checkpoint\n",
    "The model has been saved to disk.\n",
    "## Test Model\n",
    "Test your model against the test dataset.  This will be your final accuracy. You should have an accuracy greater than 50%. If you don't, keep tweaking the model architecture and parameters."
   ]
  },
  {
   "cell_type": "code",
   "execution_count": 35,
   "metadata": {
    "collapsed": false
   },
   "outputs": [
    {
     "name": "stdout",
     "output_type": "stream",
     "text": [
      "Testing Accuracy: 0.5405458860759493\n",
      "\n"
     ]
    },
    {
     "data": {
      "image/png": "[encoded data removed]",
      "text/plain": [
       "<matplotlib.figure.Figure at 0x2d98390e898>"
      ]
     },
     "metadata": {
      "image/png": {
       "height": 319,
       "width": 355
      }
     },
     "output_type": "display_data"
    }
   ],
   "source": [
    "\"\"\"\n",
    "DON'T MODIFY ANYTHING IN THIS CELL\n",
    "\"\"\"\n",
    "%matplotlib inline\n",
    "%config InlineBackend.figure_format = 'retina'\n",
    "\n",
    "import tensorflow as tf\n",
    "import pickle\n",
    "import helper\n",
    "import random\n",
    "\n",
    "# Set batch size if not already set\n",
    "try:\n",
    "    if batch_size:\n",
    "        pass\n",
    "except NameError:\n",
    "    batch_size = 64\n",
    "\n",
    "save_model_path = './image_classification'\n",
    "n_samples = 4\n",
    "top_n_predictions = 3\n",
    "\n",
    "def test_model():\n",
    "    \"\"\"\n",
    "    Test the saved model against the test dataset\n",
    "    \"\"\"\n",
    "\n",
    "    test_features, test_labels = pickle.load(open('preprocess_training.p', mode='rb'))\n",
    "    loaded_graph = tf.Graph()\n",
    "\n",
    "    with tf.Session(graph=loaded_graph) as sess:\n",
    "        # Load model\n",
    "        loader = tf.train.import_meta_graph(save_model_path + '.meta')\n",
    "        loader.restore(sess, save_model_path)\n",
    "\n",
    "        # Get Tensors from loaded model\n",
    "        loaded_x = loaded_graph.get_tensor_by_name('x:0')\n",
    "        loaded_y = loaded_graph.get_tensor_by_name('y:0')\n",
    "        loaded_keep_prob = loaded_graph.get_tensor_by_name('keep_prob:0')\n",
    "        loaded_logits = loaded_graph.get_tensor_by_name('logits:0')\n",
    "        loaded_acc = loaded_graph.get_tensor_by_name('accuracy:0')\n",
    "        \n",
    "        # Get accuracy in batches for memory limitations\n",
    "        test_batch_acc_total = 0\n",
    "        test_batch_count = 0\n",
    "        \n",
    "        for train_feature_batch, train_label_batch in helper.batch_features_labels(test_features, test_labels, batch_size):\n",
    "            test_batch_acc_total += sess.run(\n",
    "                loaded_acc,\n",
    "                feed_dict={loaded_x: train_feature_batch, loaded_y: train_label_batch, loaded_keep_prob: 1.0})\n",
    "            test_batch_count += 1\n",
    "\n",
    "        print('Testing Accuracy: {}\\n'.format(test_batch_acc_total/test_batch_count))\n",
    "\n",
    "        # Print Random Samples\n",
    "        random_test_features, random_test_labels = tuple(zip(*random.sample(list(zip(test_features, test_labels)), n_samples)))\n",
    "        random_test_predictions = sess.run(\n",
    "            tf.nn.top_k(tf.nn.softmax(loaded_logits), top_n_predictions),\n",
    "            feed_dict={loaded_x: random_test_features, loaded_y: random_test_labels, loaded_keep_prob: 1.0})\n",
    "        helper.display_image_predictions(random_test_features, random_test_labels, random_test_predictions)\n",
    "\n",
    "\n",
    "test_model()"
   ]
  },
  {
   "cell_type": "markdown",
   "metadata": {},
   "source": [
    "## Why 50-80% Accuracy?\n",
    "You might be wondering why you can't get an accuracy any higher. First things first, 50% isn't bad for a simple CNN.  Pure guessing would get you 10% accuracy. That's because there are many more techniques that can be applied to your model and we recemmond that once you are done with this project, you explore!\n",
    "\n",
    "## Submitting This Project\n",
    "When submitting this project, make sure to run all the cells before saving the notebook.  Save the notebook file as \"image_classification.ipynb\" and save it as a HTML file under \"File\" -> \"Download as\".  Include the \"helper.py\" and \"problem_unittests.py\" files in your submission."
   ]
  }
 ],
 "metadata": {
  "anaconda-cloud": {},
  "kernelspec": {
   "display_name": "Python [conda env:aind-dog]",
   "language": "python",
   "name": "conda-env-aind-dog-py"
  },
  "language_info": {
   "codemirror_mode": {
    "name": "ipython",
    "version": 3
   },
   "file_extension": ".py",
   "mimetype": "text/x-python",
   "name": "python",
   "nbconvert_exporter": "python",
   "pygments_lexer": "ipython3",
   "version": "3.5.3"
  }
 },
 "nbformat": 4,
 "nbformat_minor": 0
}
